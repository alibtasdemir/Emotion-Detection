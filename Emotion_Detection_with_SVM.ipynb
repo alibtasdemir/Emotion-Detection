{
 "cells": [
  {
   "cell_type": "markdown",
   "metadata": {},
   "source": [
    "## Emotion Detection with SVM"
   ]
  },
  {
   "cell_type": "code",
   "execution_count": 1,
   "metadata": {},
   "outputs": [],
   "source": [
    "import pandas as pd\n",
    "import numpy as np\n",
    "import matplotlib.pyplot as plt\n",
    "\n",
    "from sklearn.model_selection import train_test_split\n",
    "from sklearn.feature_extraction.text import TfidfVectorizer\n",
    "from sklearn.svm import LinearSVC\n",
    "from sklearn.linear_model import LogisticRegression"
   ]
  },
  {
   "cell_type": "code",
   "execution_count": 2,
   "metadata": {},
   "outputs": [],
   "source": [
    "path_emotion_file = \"isear.csv\"\n",
    "\n",
    "# read csv\n",
    "df_file = pd.read_csv(path_emotion_file, error_bad_lines=False, warn_bad_lines=False, sep='|', encoding='latin1')\n",
    "\n",
    "df = df_file[['Field1', 'SIT']]  # Field1 target, SIT feature\n",
    "\n",
    "\n",
    "emotion_groups = df.groupby('Field1').size()\n",
    "\n",
    "count_vector = TfidfVectorizer(ngram_range=(1, 2))  # bigram"
   ]
  },
  {
   "cell_type": "code",
   "execution_count": 3,
   "metadata": {},
   "outputs": [],
   "source": [
    "accuracy_svm = list()\n",
    "accuracy_lr = list()"
   ]
  },
  {
   "cell_type": "markdown",
   "metadata": {},
   "source": [
    "#### Emotion Detection with SVM"
   ]
  },
  {
   "cell_type": "code",
   "execution_count": 5,
   "metadata": {},
   "outputs": [
    {
     "data": {
      "text/plain": [
       "0.5916259440248778"
      ]
     },
     "execution_count": 5,
     "metadata": {},
     "output_type": "execute_result"
    }
   ],
   "source": [
    "for i in range(20):\n",
    "    train, test = train_test_split(df, test_size=0.3, shuffle=True)\n",
    "\n",
    "    vectors = count_vector.fit_transform(train.SIT)\n",
    "    vectors_test = count_vector.transform(test.SIT)\n",
    "    \n",
    "    clf = LinearSVC()\n",
    "    clf.fit(vectors, train.Field1)\n",
    "\n",
    "    predict = clf.predict(vectors_test)\n",
    "\n",
    "    accuracy_svm.append(np.mean(predict == test.Field1))\n",
    "\n",
    "np.mean(accuracy_svm)"
   ]
  },
  {
   "cell_type": "markdown",
   "metadata": {},
   "source": [
    "#### Emotion Detection with Logistic Regression "
   ]
  },
  {
   "cell_type": "code",
   "execution_count": 6,
   "metadata": {},
   "outputs": [
    {
     "data": {
      "text/plain": [
       "0.574300310972901"
      ]
     },
     "execution_count": 6,
     "metadata": {},
     "output_type": "execute_result"
    }
   ],
   "source": [
    "for i in range(20):\n",
    "    train, test = train_test_split(df, test_size=0.3, shuffle=True)\n",
    "\n",
    "\n",
    "\n",
    "    vectors = count_vector.fit_transform(train.SIT)\n",
    "\n",
    "\n",
    "    vectors_test = count_vector.transform(test.SIT)\n",
    "    clf = LogisticRegression()\n",
    "    clf.fit(vectors, train.Field1)\n",
    "\n",
    "    predict = clf.predict(vectors_test)\n",
    "\n",
    "    accuracy_lr.append(np.mean(predict == test.Field1))\n",
    "\n",
    "np.mean(accuracy_lr)"
   ]
  },
  {
   "cell_type": "markdown",
   "metadata": {},
   "source": [
    "### SVM vs. Logistic Regression "
   ]
  },
  {
   "cell_type": "code",
   "execution_count": 7,
   "metadata": {},
   "outputs": [
    {
     "data": {
      "image/png": "[encoded data removed]",
      "text/plain": [
       "<matplotlib.figure.Figure at 0x7fe8887af0b8>"
      ]
     },
     "metadata": {},
     "output_type": "display_data"
    }
   ],
   "source": [
    "%matplotlib inline\n",
    "plt.subplot()\n",
    "plt.plot(accuracy_svm, 'o',color='red', label='SVM') # SVM\n",
    "\n",
    "plt.subplot()\n",
    "plt.plot(accuracy_lr, 'o',color='blue', label='Logistic Regression') # logistic regression\n",
    "\n",
    "plt.legend(bbox_to_anchor=(1.05, 1), loc='upper left', borderaxespad=0.)\n",
    "plt.show()"
   ]
  },
  {
   "cell_type": "markdown",
   "metadata": {},
   "source": [
    "### Model Selection for SVM"
   ]
  },
  {
   "cell_type": "code",
   "execution_count": 8,
   "metadata": {},
   "outputs": [],
   "source": [
    "from sklearn.model_selection import GridSearchCV\n",
    "from sklearn.pipeline import Pipeline\n",
    "\n",
    "from nltk.stem import WordNetLemmatizer\n",
    "from nltk import word_tokenize"
   ]
  },
  {
   "cell_type": "code",
   "execution_count": 9,
   "metadata": {},
   "outputs": [],
   "source": [
    "# ref: https://scikit-learn.org/stable/modules/feature_extraction.html#customizing-the-vectorizer-classes\n",
    "\n",
    "class LemmaTokenizer(object):\n",
    "    def __init__(self):\n",
    "        self.wnl = WordNetLemmatizer()\n",
    "    def __call__(self, doc):\n",
    "        return [self.wnl.lemmatize(t) for t in word_tokenize(doc)]"
   ]
  },
  {
   "cell_type": "code",
   "execution_count": 12,
   "metadata": {},
   "outputs": [],
   "source": [
    "train, test = train_test_split(df, test_size=0.3, shuffle=True)\n",
    "\n",
    "algorithms_estimator = Pipeline([\n",
    "    ('vect', TfidfVectorizer()),\n",
    "    ('svm', LinearSVC()),\n",
    "])\n",
    "\n",
    "parameters = {\n",
    "    #'svm__random_state': [None, np.random.randint(100)],\n",
    "    #'svm__max_iter': [1000, 10000],\n",
    "    'vect__tokenizer': [None, LemmaTokenizer()],\n",
    "    'vect__ngram_range': [(1,1), (1,2), (1,3)],\n",
    "    'vect__stop_words': [None, 'english'],\n",
    "    'vect__smooth_idf': [True, False],\n",
    "}\n",
    "\n",
    "clf = GridSearchCV(algorithms_estimator, parameters, cv=8, n_jobs=8)\n",
    "clf.fit(train.SIT, train.Field1)\n",
    "result=clf.cv_results_"
   ]
  },
  {
   "cell_type": "code",
   "execution_count": 13,
   "metadata": {},
   "outputs": [
    {
     "data": {
      "text/html": [
       "<div>\n",
       "<style scoped>\n",
       "    .dataframe tbody tr th:only-of-type {\n",
       "        vertical-align: middle;\n",
       "    }\n",
       "\n",
       "    .dataframe tbody tr th {\n",
       "        vertical-align: top;\n",
       "    }\n",
       "\n",
       "    .dataframe thead th {\n",
       "        text-align: right;\n",
       "    }\n",
       "</style>\n",
       "<table border=\"1\" class=\"dataframe\">\n",
       "  <thead>\n",
       "    <tr style=\"text-align: right;\">\n",
       "      <th></th>\n",
       "      <th>rank_test_score</th>\n",
       "      <th>param_vect__stop_words</th>\n",
       "      <th>param_vect__smooth_idf</th>\n",
       "      <th>param_vect__ngram_range</th>\n",
       "      <th>param_vect__tokenizer</th>\n",
       "      <th>mean_test_score</th>\n",
       "    </tr>\n",
       "  </thead>\n",
       "  <tbody>\n",
       "    <tr>\n",
       "      <th>9</th>\n",
       "      <td>1</td>\n",
       "      <td>None</td>\n",
       "      <td>True</td>\n",
       "      <td>(1, 2)</td>\n",
       "      <td>&lt;__main__.LemmaTokenizer object at 0x7fe87c4b5...</td>\n",
       "      <td>0.591394</td>\n",
       "    </tr>\n",
       "    <tr>\n",
       "      <th>13</th>\n",
       "      <td>1</td>\n",
       "      <td>None</td>\n",
       "      <td>False</td>\n",
       "      <td>(1, 2)</td>\n",
       "      <td>&lt;__main__.LemmaTokenizer object at 0x7fe87c4b5...</td>\n",
       "      <td>0.591394</td>\n",
       "    </tr>\n",
       "    <tr>\n",
       "      <th>21</th>\n",
       "      <td>3</td>\n",
       "      <td>None</td>\n",
       "      <td>False</td>\n",
       "      <td>(1, 3)</td>\n",
       "      <td>&lt;__main__.LemmaTokenizer object at 0x7fe87c4b5...</td>\n",
       "      <td>0.591203</td>\n",
       "    </tr>\n",
       "    <tr>\n",
       "      <th>17</th>\n",
       "      <td>4</td>\n",
       "      <td>None</td>\n",
       "      <td>True</td>\n",
       "      <td>(1, 3)</td>\n",
       "      <td>&lt;__main__.LemmaTokenizer object at 0x7fe87c4b5...</td>\n",
       "      <td>0.590823</td>\n",
       "    </tr>\n",
       "    <tr>\n",
       "      <th>8</th>\n",
       "      <td>5</td>\n",
       "      <td>None</td>\n",
       "      <td>True</td>\n",
       "      <td>(1, 2)</td>\n",
       "      <td>None</td>\n",
       "      <td>0.586824</td>\n",
       "    </tr>\n",
       "  </tbody>\n",
       "</table>\n",
       "</div>"
      ],
      "text/plain": [
       "    rank_test_score param_vect__stop_words param_vect__smooth_idf  \\\n",
       "9                 1                   None                   True   \n",
       "13                1                   None                  False   \n",
       "21                3                   None                  False   \n",
       "17                4                   None                   True   \n",
       "8                 5                   None                   True   \n",
       "\n",
       "   param_vect__ngram_range                              param_vect__tokenizer  \\\n",
       "9                   (1, 2)  <__main__.LemmaTokenizer object at 0x7fe87c4b5...   \n",
       "13                  (1, 2)  <__main__.LemmaTokenizer object at 0x7fe87c4b5...   \n",
       "21                  (1, 3)  <__main__.LemmaTokenizer object at 0x7fe87c4b5...   \n",
       "17                  (1, 3)  <__main__.LemmaTokenizer object at 0x7fe87c4b5...   \n",
       "8                   (1, 2)                                               None   \n",
       "\n",
       "    mean_test_score  \n",
       "9          0.591394  \n",
       "13         0.591394  \n",
       "21         0.591203  \n",
       "17         0.590823  \n",
       "8          0.586824  "
      ]
     },
     "execution_count": 13,
     "metadata": {},
     "output_type": "execute_result"
    }
   ],
   "source": [
    "import warnings\n",
    "warnings.filterwarnings('ignore')\n",
    "\n",
    "result_df = pd.DataFrame(result)\n",
    "result_df = result_df[['rank_test_score', 'param_vect__stop_words', 'param_vect__smooth_idf', 'param_vect__ngram_range', 'param_vect__tokenizer', 'mean_test_score']]\n",
    "result_df = result_df.sort_values(by=\"rank_test_score\")\n",
    "result_df.head()"
   ]
  },
  {
   "cell_type": "code",
   "execution_count": 4,
   "metadata": {},
   "outputs": [
    {
     "name": "stderr",
     "output_type": "stream",
     "text": [
      "D:\\Anaconda3\\envs\\workplace\\lib\\site-packages\\sklearn\\linear_model\\logistic.py:432: FutureWarning: Default solver will be changed to 'lbfgs' in 0.22. Specify a solver to silence this warning.\n",
      "  FutureWarning)\n",
      "D:\\Anaconda3\\envs\\workplace\\lib\\site-packages\\sklearn\\linear_model\\logistic.py:459: FutureWarning: Default multi_class will be changed to 'auto' in 0.22. Specify the multi_class option to silence this warning.\n",
      "  \"this warning.\", FutureWarning)\n"
     ]
    }
   ],
   "source": [
    "train, test = train_test_split(df, test_size=0.3, shuffle=True)\n",
    "\n",
    "vectors = count_vector.fit_transform(train.SIT)\n",
    "\n",
    "\n",
    "vectors_test = count_vector.transform(test.SIT)\n",
    "clf = LogisticRegression()\n",
    "clf.fit(vectors, train.Field1)\n",
    "\n",
    "predict = clf.predict(vectors_test)\n",
    "\n",
    "accuracy_lr.append(np.mean(predict == test.Field1))"
   ]
  },
  {
   "cell_type": "code",
   "execution_count": 7,
   "metadata": {},
   "outputs": [
    {
     "data": {
      "text/plain": [
       "0.543758329631275"
      ]
     },
     "execution_count": 7,
     "metadata": {},
     "output_type": "execute_result"
    }
   ],
   "source": [
    "np.mean(predict==test.Field1)"
   ]
  },
  {
   "cell_type": "code",
   "execution_count": 8,
   "metadata": {},
   "outputs": [],
   "source": [
    "import itertools\n",
    "from sklearn.metrics import confusion_matrix\n",
    "\n",
    "def plot_confusion_matrix(cm, classes,\n",
    "                          normalize=False,\n",
    "                          title='Confusion matrix',\n",
    "                          cmap=plt.cm.Blues):\n",
    "    \"\"\"\n",
    "    This function prints and plots the confusion matrix.\n",
    "    Normalization can be applied by setting `normalize=True`.\n",
    "    \"\"\"\n",
    "    if normalize:\n",
    "        cm = cm.astype('float') / cm.sum(axis=1)[:, np.newaxis]\n",
    "        print(\"Normalized confusion matrix\")\n",
    "    else:\n",
    "        print('Confusion matrix, without normalization')\n",
    "\n",
    "    print(cm)\n",
    "    fig = plt.figure()\n",
    "    plt.imshow(cm, interpolation='nearest', cmap=cmap)\n",
    "    plt.title(title)\n",
    "    plt.colorbar()\n",
    "    tick_marks = np.arange(len(classes))\n",
    "    plt.xticks(tick_marks, classes, rotation=45)\n",
    "    plt.yticks(tick_marks, classes)\n",
    "\n",
    "    fmt = '.2f' if normalize else 'd'\n",
    "    thresh = cm.max() / 2.\n",
    "    for i, j in itertools.product(range(cm.shape[0]), range(cm.shape[1])):\n",
    "        plt.text(j, i, format(cm[i, j], fmt),\n",
    "                 horizontalalignment=\"center\",\n",
    "                 color=\"white\" if cm[i, j] > thresh else \"black\")\n",
    "\n",
    "    plt.ylabel('True label')\n",
    "    plt.xlabel('Predicted label')\n",
    "    plt.tight_layout()\n",
    "    if normalize:\n",
    "    \tplt.savefig(\"normalized_confusionwl.png\")\n",
    "    else:\n",
    "    \tplt.savefig(\"confusionwl.png\")"
   ]
  },
  {
   "cell_type": "code",
   "execution_count": 11,
   "metadata": {},
   "outputs": [
    {
     "data": {
      "text/plain": [
       "array(['shame', 'fear', 'guilt', 'anger', 'disgust', 'joy', 'sadness'],\n",
       "      dtype=object)"
      ]
     },
     "execution_count": 11,
     "metadata": {},
     "output_type": "execute_result"
    }
   ],
   "source": [
    "test.Field1.unique()"
   ]
  },
  {
   "cell_type": "code",
   "execution_count": 12,
   "metadata": {},
   "outputs": [
    {
     "name": "stdout",
     "output_type": "stream",
     "text": [
      "Confusion matrix, without normalization\n",
      "[[151  39  35  43  12  21  24]\n",
      " [ 49 174  31  22  14  13  18]\n",
      " [ 17  10 213  18  15  17  16]\n",
      " [ 53  10  30 146   7  21  37]\n",
      " [ 13  22  19  21 230  26   9]\n",
      " [ 37  13  20  22  27 178  18]\n",
      " [ 34  30  42  64  26  12 132]]\n",
      "Normalized confusion matrix\n",
      "[[0.46 0.12 0.11 0.13 0.04 0.06 0.07]\n",
      " [0.15 0.54 0.1  0.07 0.04 0.04 0.06]\n",
      " [0.06 0.03 0.7  0.06 0.05 0.06 0.05]\n",
      " [0.17 0.03 0.1  0.48 0.02 0.07 0.12]\n",
      " [0.04 0.06 0.06 0.06 0.68 0.08 0.03]\n",
      " [0.12 0.04 0.06 0.07 0.09 0.57 0.06]\n",
      " [0.1  0.09 0.12 0.19 0.08 0.04 0.39]]\n"
     ]
    },
    {
     "data": {
      "image/png": "[encoded data removed]",
      "text/plain": [
       "<Figure size 432x288 with 2 Axes>"
      ]
     },
     "metadata": {
      "needs_background": "light"
     },
     "output_type": "display_data"
    },
    {
     "data": {
      "image/png": "[encoded data removed]",
      "text/plain": [
       "<Figure size 432x288 with 2 Axes>"
      ]
     },
     "metadata": {
      "needs_background": "light"
     },
     "output_type": "display_data"
    }
   ],
   "source": [
    "import numpy as np\n",
    "\n",
    "cnf_matrix = confusion_matrix(test.Field1, predict)\n",
    "np.set_printoptions(precision=2)\n",
    "\n",
    "# Plot non-normalized confusion matrix\n",
    "plot_confusion_matrix(cnf_matrix, classes=test.Field1.unique(),\n",
    "                      title='Confusion matrix, without normalization')\n",
    "\n",
    "plot_confusion_matrix(cnf_matrix, classes=test.Field1.unique(), normalize=True,\n",
    "                      title='Normalized confusion matrix')"
   ]
  }
 ],
 "metadata": {
  "kernelspec": {
   "display_name": "Python 3",
   "language": "python",
   "name": "python3"
  },
  "language_info": {
   "codemirror_mode": {
    "name": "ipython",
    "version": 3
   },
   "file_extension": ".py",
   "mimetype": "text/x-python",
   "name": "python",
   "nbconvert_exporter": "python",
   "pygments_lexer": "ipython3",
   "version": "3.6.6"
  }
 },
 "nbformat": 4,
 "nbformat_minor": 2
}
