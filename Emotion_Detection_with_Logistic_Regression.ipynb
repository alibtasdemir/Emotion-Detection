{
 "cells": [
  {
   "cell_type": "markdown",
   "metadata": {},
   "source": [
    "## Emotion Detection with Logistic Regression"
   ]
  },
  {
   "cell_type": "code",
   "execution_count": 2,
   "metadata": {},
   "outputs": [],
   "source": [
    "import pandas as pd\n",
    "import numpy as np\n",
    "import matplotlib.pyplot as plt\n",
    "\n",
    "from sklearn.model_selection import train_test_split\n",
    "from sklearn.feature_extraction.text import TfidfVectorizer\n",
    "from sklearn.naive_bayes import MultinomialNB\n",
    "from sklearn.linear_model import LogisticRegression\n"
   ]
  },
  {
   "cell_type": "code",
   "execution_count": 3,
   "metadata": {},
   "outputs": [],
   "source": [
    "path_emotion_file = \"isear.csv\"\n",
    "\n",
    "# read csv\n",
    "df_file = pd.read_csv(path_emotion_file, error_bad_lines=False, warn_bad_lines=False, sep='|', encoding='latin1')\n",
    "\n",
    "df = df_file[['Field1', 'SIT']]  # Field1 target, SIT feature\n",
    "\n",
    "\n",
    "emotion_groups = df.groupby('Field1').size()\n",
    "\n",
    "count_vector = TfidfVectorizer()  "
   ]
  },
  {
   "cell_type": "code",
   "execution_count": 4,
   "metadata": {},
   "outputs": [],
   "source": [
    "accuracy_nb = list()\n",
    "accuracy_lr = list()"
   ]
  },
  {
   "cell_type": "markdown",
   "metadata": {},
   "source": [
    "#### Emotion Detection with Naive Bayes"
   ]
  },
  {
   "cell_type": "code",
   "execution_count": 21,
   "metadata": {},
   "outputs": [
    {
     "data": {
      "text/plain": [
       "0.5481563749444691"
      ]
     },
     "execution_count": 21,
     "metadata": {},
     "output_type": "execute_result"
    }
   ],
   "source": [
    "for i in range(20):\n",
    "    train, test = train_test_split(df, test_size=0.3, shuffle=True)\n",
    "\n",
    "\n",
    "\n",
    "    vectors = count_vector.fit_transform(train.SIT)\n",
    "\n",
    "\n",
    "    vectors_test = count_vector.transform(test.SIT)\n",
    "    clf = MultinomialNB()\n",
    "    clf.fit(vectors, train.Field1)\n",
    "\n",
    "    predict = clf.predict(vectors_test)\n",
    "\n",
    "    accuracy_nb.append(np.mean(predict == test.Field1))\n",
    "\n",
    "np.mean(accuracy_nb)"
   ]
  },
  {
   "cell_type": "markdown",
   "metadata": {},
   "source": [
    "#### Emotion Detection with Logistic Regression"
   ]
  },
  {
   "cell_type": "code",
   "execution_count": 22,
   "metadata": {},
   "outputs": [
    {
     "data": {
      "text/plain": [
       "0.5731674811195024"
      ]
     },
     "execution_count": 22,
     "metadata": {},
     "output_type": "execute_result"
    }
   ],
   "source": [
    "for i in range(20):\n",
    "    train, test = train_test_split(df, test_size=0.3, shuffle=True)\n",
    "\n",
    "\n",
    "\n",
    "    vectors = count_vector.fit_transform(train.SIT)\n",
    "\n",
    "\n",
    "    vectors_test = count_vector.transform(test.SIT)\n",
    "    clf = LogisticRegression()\n",
    "    clf.fit(vectors, train.Field1)\n",
    "\n",
    "    predict = clf.predict(vectors_test)\n",
    "\n",
    "    accuracy_lr.append(np.mean(predict == test.Field1))\n",
    "\n",
    "np.mean(accuracy_lr)"
   ]
  },
  {
   "cell_type": "markdown",
   "metadata": {},
   "source": [
    "### Logistic Regression vs Naive Bayes"
   ]
  },
  {
   "cell_type": "code",
   "execution_count": 30,
   "metadata": {},
   "outputs": [
    {
     "data": {
      "image/png": "[encoded data removed]",
      "text/plain": [
       "<matplotlib.figure.Figure at 0x7fee2e8c9978>"
      ]
     },
     "metadata": {},
     "output_type": "display_data"
    }
   ],
   "source": [
    "%matplotlib inline\n",
    "plt.subplot()\n",
    "plt.plot(accuracy_nb, 'o',color='red', label='Naive Bayes') # naive bayes\n",
    "\n",
    "plt.subplot()\n",
    "plt.plot(accuracy_lr, 'o',color='blue', label='Logistic Regression') # logistic regression\n",
    "plt.legend(bbox_to_anchor=(1.05, 1), loc='upper left', borderaxespad=0.)\n",
    "plt.show()"
   ]
  },
  {
   "cell_type": "markdown",
   "metadata": {},
   "source": [
    "### Model Selection for Logistic Regression"
   ]
  },
  {
   "cell_type": "code",
   "execution_count": 9,
   "metadata": {},
   "outputs": [],
   "source": [
    "from sklearn.model_selection import GridSearchCV\n",
    "from sklearn.pipeline import Pipeline\n",
    "\n",
    "from nltk.stem import WordNetLemmatizer\n",
    "from nltk import word_tokenize"
   ]
  },
  {
   "cell_type": "code",
   "execution_count": 7,
   "metadata": {},
   "outputs": [],
   "source": [
    "# ref: https://scikit-learn.org/stable/modules/feature_extraction.html#customizing-the-vectorizer-classes\n",
    "\n",
    "class LemmaTokenizer(object):\n",
    "    def __init__(self):\n",
    "        self.wnl = WordNetLemmatizer()\n",
    "    def __call__(self, doc):\n",
    "        return [self.wnl.lemmatize(t) for t in word_tokenize(doc)]"
   ]
  },
  {
   "cell_type": "code",
   "execution_count": 7,
   "metadata": {},
   "outputs": [],
   "source": [
    "train, test = train_test_split(df, test_size=0.3, shuffle=True)\n",
    "\n",
    "algorithms_estimator = Pipeline([\n",
    "    ('vect', TfidfVectorizer()),\n",
    "    ('lr', LogisticRegression()),\n",
    "])\n",
    "\n",
    "parameters = {\n",
    "    'lr__penalty': ['l1', 'l2'],\n",
    "    'vect__stop_words': [None, 'english'],\n",
    "    'vect__smooth_idf': [True, False],\n",
    "    'vect__ngram_range': [(1,1), (1,2)],\n",
    "    'vect__tokenizer': [None, LemmaTokenizer()],\n",
    "\n",
    "}\n",
    "\n",
    "clf = GridSearchCV(algorithms_estimator, parameters, cv=10, n_jobs=8)\n",
    "clf.fit(train.SIT, train.Field1)\n",
    "result=clf.cv_results_"
   ]
  },
  {
   "cell_type": "code",
   "execution_count": 29,
   "metadata": {},
   "outputs": [
    {
     "data": {
      "text/html": [
       "<div>\n",
       "<style scoped>\n",
       "    .dataframe tbody tr th:only-of-type {\n",
       "        vertical-align: middle;\n",
       "    }\n",
       "\n",
       "    .dataframe tbody tr th {\n",
       "        vertical-align: top;\n",
       "    }\n",
       "\n",
       "    .dataframe thead th {\n",
       "        text-align: right;\n",
       "    }\n",
       "</style>\n",
       "<table border=\"1\" class=\"dataframe\">\n",
       "  <thead>\n",
       "    <tr style=\"text-align: right;\">\n",
       "      <th></th>\n",
       "      <th>rank_test_score</th>\n",
       "      <th>param_lr__penalty</th>\n",
       "      <th>param_vect__stop_words</th>\n",
       "      <th>param_vect__smooth_idf</th>\n",
       "      <th>param_vect__ngram_range</th>\n",
       "      <th>param_vect__tokenizer</th>\n",
       "      <th>mean_test_score</th>\n",
       "    </tr>\n",
       "  </thead>\n",
       "  <tbody>\n",
       "    <tr>\n",
       "      <th>21</th>\n",
       "      <td>1</td>\n",
       "      <td>l2</td>\n",
       "      <td>None</td>\n",
       "      <td>False</td>\n",
       "      <td>(1, 1)</td>\n",
       "      <td>&lt;__main__.LemmaTokenizer object at 0x7f764fdd9...</td>\n",
       "      <td>0.567784</td>\n",
       "    </tr>\n",
       "    <tr>\n",
       "      <th>17</th>\n",
       "      <td>2</td>\n",
       "      <td>l2</td>\n",
       "      <td>None</td>\n",
       "      <td>True</td>\n",
       "      <td>(1, 1)</td>\n",
       "      <td>&lt;__main__.LemmaTokenizer object at 0x7f764fdd9...</td>\n",
       "      <td>0.567593</td>\n",
       "    </tr>\n",
       "    <tr>\n",
       "      <th>20</th>\n",
       "      <td>3</td>\n",
       "      <td>l2</td>\n",
       "      <td>None</td>\n",
       "      <td>False</td>\n",
       "      <td>(1, 1)</td>\n",
       "      <td>None</td>\n",
       "      <td>0.566832</td>\n",
       "    </tr>\n",
       "    <tr>\n",
       "      <th>16</th>\n",
       "      <td>4</td>\n",
       "      <td>l2</td>\n",
       "      <td>None</td>\n",
       "      <td>True</td>\n",
       "      <td>(1, 1)</td>\n",
       "      <td>None</td>\n",
       "      <td>0.565689</td>\n",
       "    </tr>\n",
       "    <tr>\n",
       "      <th>19</th>\n",
       "      <td>5</td>\n",
       "      <td>l2</td>\n",
       "      <td>english</td>\n",
       "      <td>True</td>\n",
       "      <td>(1, 1)</td>\n",
       "      <td>&lt;__main__.LemmaTokenizer object at 0x7f764fdd9...</td>\n",
       "      <td>0.562452</td>\n",
       "    </tr>\n",
       "  </tbody>\n",
       "</table>\n",
       "</div>"
      ],
      "text/plain": [
       "    rank_test_score param_lr__penalty param_vect__stop_words  \\\n",
       "21                1                l2                   None   \n",
       "17                2                l2                   None   \n",
       "20                3                l2                   None   \n",
       "16                4                l2                   None   \n",
       "19                5                l2                english   \n",
       "\n",
       "   param_vect__smooth_idf param_vect__ngram_range  \\\n",
       "21                  False                  (1, 1)   \n",
       "17                   True                  (1, 1)   \n",
       "20                  False                  (1, 1)   \n",
       "16                   True                  (1, 1)   \n",
       "19                   True                  (1, 1)   \n",
       "\n",
       "                                param_vect__tokenizer  mean_test_score  \n",
       "21  <__main__.LemmaTokenizer object at 0x7f764fdd9...         0.567784  \n",
       "17  <__main__.LemmaTokenizer object at 0x7f764fdd9...         0.567593  \n",
       "20                                               None         0.566832  \n",
       "16                                               None         0.565689  \n",
       "19  <__main__.LemmaTokenizer object at 0x7f764fdd9...         0.562452  "
      ]
     },
     "execution_count": 29,
     "metadata": {},
     "output_type": "execute_result"
    }
   ],
   "source": [
    "import warnings\n",
    "warnings.filterwarnings('ignore')\n",
    "\n",
    "result_df = pd.DataFrame(result)\n",
    "result_df = result_df[['rank_test_score','param_lr__penalty', 'param_vect__stop_words', 'param_vect__smooth_idf', 'param_vect__ngram_range', 'param_vect__tokenizer', 'mean_test_score']]\n",
    "result_df = result_df.sort_values(by=\"rank_test_score\")\n",
    "result_df.head()"
   ]
  },
  {
   "cell_type": "code",
   "execution_count": 5,
   "metadata": {},
   "outputs": [],
   "source": [
    "import itertools\n",
    "from sklearn.metrics import confusion_matrix\n",
    "\n",
    "def plot_confusion_matrix(cm, classes,\n",
    "                          normalize=False,\n",
    "                          title='Confusion matrix',\n",
    "                          cmap=plt.cm.Blues):\n",
    "    \"\"\"\n",
    "    This function prints and plots the confusion matrix.\n",
    "    Normalization can be applied by setting `normalize=True`.\n",
    "    \"\"\"\n",
    "    if normalize:\n",
    "        cm = cm.astype('float') / cm.sum(axis=1)[:, np.newaxis]\n",
    "        print(\"Normalized confusion matrix\")\n",
    "    else:\n",
    "        print('Confusion matrix, without normalization')\n",
    "\n",
    "    print(cm)\n",
    "    fig = plt.figure()\n",
    "    plt.imshow(cm, interpolation='nearest', cmap=cmap)\n",
    "    plt.title(title)\n",
    "    plt.colorbar()\n",
    "    tick_marks = np.arange(len(classes))\n",
    "    plt.xticks(tick_marks, classes, rotation=45)\n",
    "    plt.yticks(tick_marks, classes)\n",
    "\n",
    "    fmt = '.2f' if normalize else 'd'\n",
    "    thresh = cm.max() / 2.\n",
    "    for i, j in itertools.product(range(cm.shape[0]), range(cm.shape[1])):\n",
    "        plt.text(j, i, format(cm[i, j], fmt),\n",
    "                 horizontalalignment=\"center\",\n",
    "                 color=\"white\" if cm[i, j] > thresh else \"black\")\n",
    "\n",
    "    plt.ylabel('True label')\n",
    "    plt.xlabel('Predicted label')\n",
    "    plt.tight_layout()\n",
    "    \"\"\"\n",
    "    if normalize:\n",
    "    \tplt.savefig(\"normalized_confusionwl.png\")\n",
    "    else:\n",
    "    \tplt.savefig(\"confusionwl.png\")\n",
    "    \"\"\""
   ]
  },
  {
   "cell_type": "code",
   "execution_count": 10,
   "metadata": {},
   "outputs": [
    {
     "name": "stderr",
     "output_type": "stream",
     "text": [
      "D:\\Anaconda3\\envs\\workplace\\lib\\site-packages\\sklearn\\linear_model\\logistic.py:432: FutureWarning: Default solver will be changed to 'lbfgs' in 0.22. Specify a solver to silence this warning.\n",
      "  FutureWarning)\n",
      "D:\\Anaconda3\\envs\\workplace\\lib\\site-packages\\sklearn\\linear_model\\logistic.py:459: FutureWarning: Default multi_class will be changed to 'auto' in 0.22. Specify the multi_class option to silence this warning.\n",
      "  \"this warning.\", FutureWarning)\n"
     ]
    }
   ],
   "source": [
    "train, test = train_test_split(df, test_size=0.2, shuffle=True)\n",
    "\n",
    "count_vector = TfidfVectorizer(smooth_idf=False, ngram_range=(1,1), tokenizer=LemmaTokenizer())\n",
    "\n",
    "vectors = count_vector.fit_transform(train.SIT)\n",
    "\n",
    "vectors_test = count_vector.transform(test.SIT)\n",
    "clf = LogisticRegression(penalty='l2', )\n",
    "clf.fit(vectors, train.Field1)\n",
    "\n",
    "predict = clf.predict(vectors_test)"
   ]
  },
  {
   "cell_type": "code",
   "execution_count": 11,
   "metadata": {},
   "outputs": [
    {
     "name": "stdout",
     "output_type": "stream",
     "text": [
      "Confusion matrix, without normalization\n",
      "[[102  27  12  27  15   8  16]\n",
      " [ 22 138   8   7   5   8  23]\n",
      " [  9  11 151   7  12   8   9]\n",
      " [ 34  19  13  84   8  12  25]\n",
      " [ 12  14   5  15 163  10   8]\n",
      " [ 15   8  10  18  17 134  13]\n",
      " [ 17  27  18  39  22  11 105]]\n",
      "Normalized confusion matrix\n",
      "[[0.49 0.13 0.06 0.13 0.07 0.04 0.08]\n",
      " [0.1  0.65 0.04 0.03 0.02 0.04 0.11]\n",
      " [0.04 0.05 0.73 0.03 0.06 0.04 0.04]\n",
      " [0.17 0.1  0.07 0.43 0.04 0.06 0.13]\n",
      " [0.05 0.06 0.02 0.07 0.72 0.04 0.04]\n",
      " [0.07 0.04 0.05 0.08 0.08 0.62 0.06]\n",
      " [0.07 0.11 0.08 0.16 0.09 0.05 0.44]]\n"
     ]
    },
    {
     "data": {
      "image/png": "[encoded data removed]",
      "text/plain": [
       "<Figure size 432x288 with 2 Axes>"
      ]
     },
     "metadata": {
      "needs_background": "light"
     },
     "output_type": "display_data"
    },
    {
     "data": {
      "image/png": "[encoded data removed]",
      "text/plain": [
       "<Figure size 432x288 with 2 Axes>"
      ]
     },
     "metadata": {
      "needs_background": "light"
     },
     "output_type": "display_data"
    }
   ],
   "source": [
    "import numpy as np\n",
    "\n",
    "cnf_matrix = confusion_matrix(test.Field1, predict)\n",
    "np.set_printoptions(precision=2)\n",
    "\n",
    "# Plot non-normalized confusion matrix\n",
    "plot_confusion_matrix(cnf_matrix, classes=test.Field1.unique(),\n",
    "                      title='Confusion matrix, without normalization')\n",
    "\n",
    "plot_confusion_matrix(cnf_matrix, classes=test.Field1.unique(), normalize=True,\n",
    "                      title='Normalized confusion matrix')"
   ]
  }
 ],
 "metadata": {
  "kernelspec": {
   "display_name": "Python 3",
   "language": "python",
   "name": "python3"
  },
  "language_info": {
   "codemirror_mode": {
    "name": "ipython",
    "version": 3
   },
   "file_extension": ".py",
   "mimetype": "text/x-python",
   "name": "python",
   "nbconvert_exporter": "python",
   "pygments_lexer": "ipython3",
   "version": "3.6.6"
  }
 },
 "nbformat": 4,
 "nbformat_minor": 2
}
