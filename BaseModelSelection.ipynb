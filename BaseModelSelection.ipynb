{
 "cells": [
  {
   "cell_type": "markdown",
   "metadata": {},
   "source": [
    "# Emotion Detection\n",
    "## Data Preprocess"
   ]
  },
  {
   "cell_type": "code",
   "execution_count": 1,
   "metadata": {},
   "outputs": [],
   "source": [
    "import nltk, re\n",
    "from nltk import word_tokenize\n",
    "from nltk.corpus.reader import XMLCorpusReader"
   ]
  },
  {
   "cell_type": "code",
   "execution_count": 2,
   "metadata": {},
   "outputs": [],
   "source": [
    "reader = XMLCorpusReader(\"data\", fileids=[\"affectivetext_trial.xml\", \"affectivetext_test.xml\"])"
   ]
  },
  {
   "cell_type": "code",
   "execution_count": 3,
   "metadata": {},
   "outputs": [
    {
     "data": {
      "text/plain": [
       "['affectivetext_trial.xml', 'affectivetext_test.xml']"
      ]
     },
     "execution_count": 3,
     "metadata": {},
     "output_type": "execute_result"
    }
   ],
   "source": [
    "reader.fileids()"
   ]
  },
  {
   "cell_type": "code",
   "execution_count": 4,
   "metadata": {},
   "outputs": [
    {
     "name": "stdout",
     "output_type": "stream",
     "text": [
      "Train data: 1000\n",
      "Test data: 250\n"
     ]
    }
   ],
   "source": [
    "#train_headers = reader.xml('affectivetext_trial.xml')\n",
    "train_headers = reader.xml('affectivetext_test.xml')\n",
    "#test_headers = reader.xml('affectivetext_test.xml')\n",
    "test_headers = reader.xml('affectivetext_trial.xml')\n",
    "print(\"Train data: \" + str(len(train_headers)))\n",
    "print(\"Test data: \" + str(len(test_headers)))"
   ]
  },
  {
   "cell_type": "code",
   "execution_count": 13,
   "metadata": {},
   "outputs": [
    {
     "name": "stdout",
     "output_type": "stream",
     "text": [
      "Train vector: 1000\n",
      "Test vector: 250\n"
     ]
    }
   ],
   "source": [
    "def configVecData(data):\n",
    "    for i, vec in enumerate(data):\n",
    "        data[i] = [float(el) for el in vec[1:]]\n",
    "    return data\n",
    "\n",
    "def getVectors(filename):\n",
    "    file = open(filename, 'r')\n",
    "    data = [line.split(\" \") for line in file.read().splitlines()]\n",
    "    file.close()\n",
    "    return configVecData(data)\n",
    "\n",
    "#train_emot = getVectors(\"data/AffectiveText.trial/affectivetext_trial.emotions.gold\")\n",
    "#test_emot = getVectors(\"data/AffectiveText.test/affectivetext_test.emotions.gold\")\n",
    "test_emot = getVectors(\"data/AffectiveText.trial/affectivetext_trial.emotions.gold\")\n",
    "train_emot = getVectors(\"data/AffectiveText.test/affectivetext_test.emotions.gold\")\n",
    "print(\"Train vector: \" + str(len(train_emot)))\n",
    "print(\"Test vector: \" + str(len(test_emot)))"
   ]
  },
  {
   "cell_type": "code",
   "execution_count": 14,
   "metadata": {},
   "outputs": [],
   "source": [
    "def labeldict():\n",
    "    dictionary = {}\n",
    "    labels = [\"anger\", \"disgust\", \"fear\", \"joy\", \"sadness\", \"surprise\"]\n",
    "    for i,emotion in enumerate(labels):\n",
    "        dictionary[i] = emotion\n",
    "    return dictionary\n",
    "\n",
    "labels = labeldict()"
   ]
  },
  {
   "cell_type": "code",
   "execution_count": 15,
   "metadata": {},
   "outputs": [],
   "source": [
    "def labeler(vector):\n",
    "    out = list()\n",
    "    for i, headline in enumerate(vector):\n",
    "        emotion = headline.index(max(headline))\n",
    "        out.append(emotion)\n",
    "    return out"
   ]
  },
  {
   "cell_type": "code",
   "execution_count": 16,
   "metadata": {},
   "outputs": [
    {
     "data": {
      "text/plain": [
       "{0: 'anger', 1: 'disgust', 2: 'fear', 3: 'joy', 4: 'sadness', 5: 'surprise'}"
      ]
     },
     "execution_count": 16,
     "metadata": {},
     "output_type": "execute_result"
    }
   ],
   "source": [
    "labels"
   ]
  },
  {
   "cell_type": "code",
   "execution_count": 17,
   "metadata": {},
   "outputs": [],
   "source": [
    "y_train = labeler(train_emot)\n",
    "y_test = labeler(test_emot)"
   ]
  },
  {
   "cell_type": "code",
   "execution_count": 18,
   "metadata": {},
   "outputs": [],
   "source": [
    "def countLabel(labels):\n",
    "    dictionary = {}\n",
    "    for x in labels:\n",
    "        if x not in dictionary:\n",
    "            dictionary[x] = 1\n",
    "        else:\n",
    "            dictionary[x] += 1\n",
    "    return dictionary\n",
    "\n",
    "countlabel = countLabel(y_train)"
   ]
  },
  {
   "cell_type": "code",
   "execution_count": 19,
   "metadata": {},
   "outputs": [
    {
     "name": "stdout",
     "output_type": "stream",
     "text": [
      "Frequency Table\n",
      "joy     \t362\n",
      "sadness \t202\n",
      "fear    \t160\n",
      "surprise\t184\n",
      "anger   \t66\n",
      "disgust \t26\n"
     ]
    }
   ],
   "source": [
    "print(\"Frequency Table\")\n",
    "for key in countlabel.keys():\n",
    "    print(\"{:<8}\\t{}\".format(labels[key], str(countlabel[key])))\n",
    "    #print(labels[key] + \"\\t\" + str(countlabel[key]))"
   ]
  },
  {
   "cell_type": "markdown",
   "metadata": {},
   "source": [
    "## Classification Algorithms\n",
    "### Multinomial Naive Bayes"
   ]
  },
  {
   "cell_type": "code",
   "execution_count": 20,
   "metadata": {},
   "outputs": [],
   "source": [
    "from sklearn.feature_extraction.text import CountVectorizer, TfidfTransformer\n",
    "from sklearn.naive_bayes import MultinomialNB\n",
    "from sklearn.model_selection import GridSearchCV\n",
    "from sklearn import metrics\n",
    "from sklearn.linear_model import SGDClassifier\n",
    "\n",
    "import warnings\n",
    "warnings.filterwarnings('ignore')\n",
    "import pandas as pd"
   ]
  },
  {
   "cell_type": "code",
   "execution_count": 21,
   "metadata": {},
   "outputs": [],
   "source": [
    "def crossValidation(algorithm, parameters, folds, X, y):\n",
    "    gs = GridSearchCV(algorithm, parameters, cv=folds, iid=False, n_jobs=-1)\n",
    "    gs = gs.fit(X, y)\n",
    "    print(\"Best Score %.3f\" % (gs.best_score_))\n",
    "    for param_name in sorted(parameters.keys()):\n",
    "        print(\"%s: %r\" % (param_name, gs.best_params_[param_name]))\n",
    "    return pd.DataFrame(gs.cv_results_)"
   ]
  },
  {
   "cell_type": "code",
   "execution_count": 22,
   "metadata": {},
   "outputs": [],
   "source": [
    "def createData(headers):\n",
    "    corpus = list()\n",
    "    for i in headers.itertext():\n",
    "        if i != \"\\n\":\n",
    "            corpus.append(i)\n",
    "    return corpus"
   ]
  },
  {
   "cell_type": "code",
   "execution_count": 23,
   "metadata": {},
   "outputs": [],
   "source": [
    "X_train = createData(train_headers)\n",
    "#Mnaive_clf.fit(X_train, y_train)"
   ]
  },
  {
   "cell_type": "code",
   "execution_count": 24,
   "metadata": {},
   "outputs": [],
   "source": [
    "import numpy as np\n",
    "X_test = createData(test_headers) \n",
    "#predicted = Mnaive_clf.predict(X_test)\n",
    "#np.mean(predicted == y_test)  "
   ]
  },
  {
   "cell_type": "code",
   "execution_count": 25,
   "metadata": {},
   "outputs": [],
   "source": [
    "from sklearn.pipeline import Pipeline\n",
    "Mnaive_clf = Pipeline([\n",
    "     ('vect', CountVectorizer()),\n",
    "     ('tfidf', TfidfTransformer()),\n",
    "     ('clf', MultinomialNB()),\n",
    " ])"
   ]
  },
  {
   "cell_type": "markdown",
   "metadata": {},
   "source": [
    "#### Cross Validation for best parameters"
   ]
  },
  {
   "cell_type": "code",
   "execution_count": 26,
   "metadata": {},
   "outputs": [],
   "source": [
    "parameters = {'vect__stop_words': (None, 'english'), \n",
    "              'vect__ngram_range': [(1, 1), (1, 2), (1, 3), (1, 4)], \n",
    "              'tfidf__use_idf': (True, False), \n",
    "              'clf__alpha': (1e-2, 1e-1, 1),\n",
    "             }"
   ]
  },
  {
   "cell_type": "code",
   "execution_count": 27,
   "metadata": {},
   "outputs": [
    {
     "name": "stdout",
     "output_type": "stream",
     "text": [
      "Best Score 0.487\n",
      "clf__alpha: 0.1\n",
      "tfidf__use_idf: True\n",
      "vect__ngram_range: (1, 3)\n",
      "vect__stop_words: 'english'\n"
     ]
    }
   ],
   "source": [
    "result_nb = crossValidation(X=X_train, y=y_train, algorithm=Mnaive_clf, parameters=parameters, folds=5)"
   ]
  },
  {
   "cell_type": "code",
   "execution_count": 28,
   "metadata": {},
   "outputs": [],
   "source": [
    "result_nb = result_nb[[\"rank_test_score\", \"param_tfidf__use_idf\",\"param_clf__alpha\",\"param_vect__ngram_range\",\n",
    "                              \"param_vect__stop_words\", \"mean_test_score\", \"mean_train_score\"]]\n",
    "\n",
    "result_nb.columns = [\"Rank\", \"tfidf\", \"clf alpha\", \"N-gram range\", \"Stop words\", \"Test Score\",\n",
    "                           \"Train Score\"]"
   ]
  },
  {
   "cell_type": "code",
   "execution_count": 29,
   "metadata": {},
   "outputs": [
    {
     "data": {
      "text/html": [
       "<div>\n",
       "<style scoped>\n",
       "    .dataframe tbody tr th:only-of-type {\n",
       "        vertical-align: middle;\n",
       "    }\n",
       "\n",
       "    .dataframe tbody tr th {\n",
       "        vertical-align: top;\n",
       "    }\n",
       "\n",
       "    .dataframe thead th {\n",
       "        text-align: right;\n",
       "    }\n",
       "</style>\n",
       "<table border=\"1\" class=\"dataframe\">\n",
       "  <thead>\n",
       "    <tr style=\"text-align: right;\">\n",
       "      <th></th>\n",
       "      <th>Rank</th>\n",
       "      <th>tfidf</th>\n",
       "      <th>clf alpha</th>\n",
       "      <th>N-gram range</th>\n",
       "      <th>Stop words</th>\n",
       "      <th>Test Score</th>\n",
       "      <th>Train Score</th>\n",
       "    </tr>\n",
       "  </thead>\n",
       "  <tbody>\n",
       "    <tr>\n",
       "      <th>21</th>\n",
       "      <td>1</td>\n",
       "      <td>True</td>\n",
       "      <td>0.1</td>\n",
       "      <td>(1, 3)</td>\n",
       "      <td>english</td>\n",
       "      <td>0.486748</td>\n",
       "      <td>0.997752</td>\n",
       "    </tr>\n",
       "    <tr>\n",
       "      <th>31</th>\n",
       "      <td>2</td>\n",
       "      <td>False</td>\n",
       "      <td>0.1</td>\n",
       "      <td>(1, 4)</td>\n",
       "      <td>english</td>\n",
       "      <td>0.483763</td>\n",
       "      <td>0.997752</td>\n",
       "    </tr>\n",
       "    <tr>\n",
       "      <th>27</th>\n",
       "      <td>3</td>\n",
       "      <td>False</td>\n",
       "      <td>0.1</td>\n",
       "      <td>(1, 2)</td>\n",
       "      <td>english</td>\n",
       "      <td>0.483763</td>\n",
       "      <td>0.996252</td>\n",
       "    </tr>\n",
       "    <tr>\n",
       "      <th>29</th>\n",
       "      <td>4</td>\n",
       "      <td>False</td>\n",
       "      <td>0.1</td>\n",
       "      <td>(1, 3)</td>\n",
       "      <td>english</td>\n",
       "      <td>0.483748</td>\n",
       "      <td>0.997251</td>\n",
       "    </tr>\n",
       "    <tr>\n",
       "      <th>19</th>\n",
       "      <td>5</td>\n",
       "      <td>True</td>\n",
       "      <td>0.1</td>\n",
       "      <td>(1, 2)</td>\n",
       "      <td>english</td>\n",
       "      <td>0.483718</td>\n",
       "      <td>0.997003</td>\n",
       "    </tr>\n",
       "  </tbody>\n",
       "</table>\n",
       "</div>"
      ],
      "text/plain": [
       "    Rank  tfidf clf alpha N-gram range Stop words  Test Score  Train Score\n",
       "21     1   True       0.1       (1, 3)    english    0.486748     0.997752\n",
       "31     2  False       0.1       (1, 4)    english    0.483763     0.997752\n",
       "27     3  False       0.1       (1, 2)    english    0.483763     0.996252\n",
       "29     4  False       0.1       (1, 3)    english    0.483748     0.997251\n",
       "19     5   True       0.1       (1, 2)    english    0.483718     0.997003"
      ]
     },
     "execution_count": 29,
     "metadata": {},
     "output_type": "execute_result"
    }
   ],
   "source": [
    "sorted_result_nb = result_nb.sort_values(by=\"Rank\")\n",
    "sorted_result_nb[:5]"
   ]
  },
  {
   "cell_type": "markdown",
   "metadata": {},
   "source": [
    "### SVM"
   ]
  },
  {
   "cell_type": "code",
   "execution_count": 30,
   "metadata": {},
   "outputs": [],
   "source": [
    "svm = Pipeline([\n",
    "     ('vect', CountVectorizer()),\n",
    "     ('tfidf', TfidfTransformer()),\n",
    "     ('clf', SGDClassifier(loss='hinge', penalty='l2',\n",
    "                           alpha=1e-3, random_state=42,\n",
    "                           max_iter=5, tol=None)),\n",
    " ])"
   ]
  },
  {
   "cell_type": "code",
   "execution_count": 31,
   "metadata": {},
   "outputs": [],
   "source": [
    "parameters = {'vect__stop_words': (None, 'english'), \n",
    "              'vect__ngram_range': [(1, 1), (1, 2), (1, 3), (1, 4)], \n",
    "              'tfidf__use_idf': (True, False), \n",
    "              'clf__alpha': (1e-2, 1e-3),\n",
    "              'clf__loss': ('log', 'hinge', 'squared_hinge')\n",
    "             }"
   ]
  },
  {
   "cell_type": "code",
   "execution_count": 32,
   "metadata": {
    "scrolled": true
   },
   "outputs": [
    {
     "name": "stdout",
     "output_type": "stream",
     "text": [
      "Best Score 0.496\n",
      "clf__alpha: 0.001\n",
      "clf__loss: 'squared_hinge'\n",
      "tfidf__use_idf: True\n",
      "vect__ngram_range: (1, 4)\n",
      "vect__stop_words: 'english'\n"
     ]
    }
   ],
   "source": [
    "result_svm = crossValidation(X=X_train, y=y_train, algorithm=svm, folds=5, parameters=parameters)"
   ]
  },
  {
   "cell_type": "code",
   "execution_count": 33,
   "metadata": {},
   "outputs": [],
   "source": [
    "result_svm = result_svm[[\"rank_test_score\",\"param_clf__loss\", \"param_tfidf__use_idf\",\"param_clf__alpha\",\n",
    "                         \"param_vect__ngram_range\",\"param_vect__stop_words\", \"mean_test_score\", \"mean_train_score\"]]\n",
    "\n",
    "result_svm.columns = [\"Rank\",\"Loss Function\", \"tfidf\", \"clf alpha\", \"N-gram range\", \"Stop words\", \"Test Score\", \"Train Score\"]"
   ]
  },
  {
   "cell_type": "code",
   "execution_count": 34,
   "metadata": {},
   "outputs": [
    {
     "data": {
      "text/html": [
       "<div>\n",
       "<style scoped>\n",
       "    .dataframe tbody tr th:only-of-type {\n",
       "        vertical-align: middle;\n",
       "    }\n",
       "\n",
       "    .dataframe tbody tr th {\n",
       "        vertical-align: top;\n",
       "    }\n",
       "\n",
       "    .dataframe thead th {\n",
       "        text-align: right;\n",
       "    }\n",
       "</style>\n",
       "<table border=\"1\" class=\"dataframe\">\n",
       "  <thead>\n",
       "    <tr style=\"text-align: right;\">\n",
       "      <th></th>\n",
       "      <th>Rank</th>\n",
       "      <th>Loss Function</th>\n",
       "      <th>tfidf</th>\n",
       "      <th>clf alpha</th>\n",
       "      <th>N-gram range</th>\n",
       "      <th>Stop words</th>\n",
       "      <th>Test Score</th>\n",
       "      <th>Train Score</th>\n",
       "    </tr>\n",
       "  </thead>\n",
       "  <tbody>\n",
       "    <tr>\n",
       "      <th>87</th>\n",
       "      <td>1</td>\n",
       "      <td>squared_hinge</td>\n",
       "      <td>True</td>\n",
       "      <td>0.001</td>\n",
       "      <td>(1, 4)</td>\n",
       "      <td>english</td>\n",
       "      <td>0.495734</td>\n",
       "      <td>0.997752</td>\n",
       "    </tr>\n",
       "    <tr>\n",
       "      <th>85</th>\n",
       "      <td>2</td>\n",
       "      <td>squared_hinge</td>\n",
       "      <td>True</td>\n",
       "      <td>0.001</td>\n",
       "      <td>(1, 3)</td>\n",
       "      <td>english</td>\n",
       "      <td>0.494729</td>\n",
       "      <td>0.997752</td>\n",
       "    </tr>\n",
       "    <tr>\n",
       "      <th>79</th>\n",
       "      <td>3</td>\n",
       "      <td>hinge</td>\n",
       "      <td>False</td>\n",
       "      <td>0.001</td>\n",
       "      <td>(1, 4)</td>\n",
       "      <td>english</td>\n",
       "      <td>0.490813</td>\n",
       "      <td>0.996002</td>\n",
       "    </tr>\n",
       "    <tr>\n",
       "      <th>93</th>\n",
       "      <td>4</td>\n",
       "      <td>squared_hinge</td>\n",
       "      <td>False</td>\n",
       "      <td>0.001</td>\n",
       "      <td>(1, 3)</td>\n",
       "      <td>english</td>\n",
       "      <td>0.489778</td>\n",
       "      <td>0.997752</td>\n",
       "    </tr>\n",
       "    <tr>\n",
       "      <th>71</th>\n",
       "      <td>5</td>\n",
       "      <td>hinge</td>\n",
       "      <td>True</td>\n",
       "      <td>0.001</td>\n",
       "      <td>(1, 4)</td>\n",
       "      <td>english</td>\n",
       "      <td>0.488743</td>\n",
       "      <td>0.996002</td>\n",
       "    </tr>\n",
       "  </tbody>\n",
       "</table>\n",
       "</div>"
      ],
      "text/plain": [
       "    Rank  Loss Function  tfidf clf alpha N-gram range Stop words  Test Score  \\\n",
       "87     1  squared_hinge   True     0.001       (1, 4)    english    0.495734   \n",
       "85     2  squared_hinge   True     0.001       (1, 3)    english    0.494729   \n",
       "79     3          hinge  False     0.001       (1, 4)    english    0.490813   \n",
       "93     4  squared_hinge  False     0.001       (1, 3)    english    0.489778   \n",
       "71     5          hinge   True     0.001       (1, 4)    english    0.488743   \n",
       "\n",
       "    Train Score  \n",
       "87     0.997752  \n",
       "85     0.997752  \n",
       "79     0.996002  \n",
       "93     0.997752  \n",
       "71     0.996002  "
      ]
     },
     "execution_count": 34,
     "metadata": {},
     "output_type": "execute_result"
    }
   ],
   "source": [
    "sorted_result_svm = result_svm.sort_values(by=\"Rank\")\n",
    "sorted_result_svm[:5]"
   ]
  },
  {
   "cell_type": "markdown",
   "metadata": {},
   "source": [
    "## Regression Models\n",
    "### Linear Regression\n",
    "\n",
    "For regression models we need a larger train data set so we use 1000 lenght test dataset as train and smaller train set as test dataset."
   ]
  },
  {
   "cell_type": "code",
   "execution_count": 35,
   "metadata": {},
   "outputs": [],
   "source": [
    "from sklearn.linear_model import LinearRegression\n",
    "linear_reg = Pipeline([\n",
    "     ('vect', CountVectorizer()),\n",
    "     ('tfidf', TfidfTransformer()),\n",
    "     ('reg', LinearRegression()),\n",
    " ])"
   ]
  },
  {
   "cell_type": "code",
   "execution_count": 36,
   "metadata": {},
   "outputs": [],
   "source": [
    "parameters = {'vect__stop_words': (None, 'english'), \n",
    "              'vect__ngram_range': [(1, 1), (1, 2), (1, 3), (1, 4)], \n",
    "              'tfidf__use_idf': (True, False),\n",
    "              'reg__normalize': (True, False)\n",
    "             }"
   ]
  },
  {
   "cell_type": "code",
   "execution_count": 37,
   "metadata": {},
   "outputs": [
    {
     "name": "stdout",
     "output_type": "stream",
     "text": [
      "Best Score 0.189\n",
      "reg__normalize: True\n",
      "tfidf__use_idf: True\n",
      "vect__ngram_range: (1, 2)\n",
      "vect__stop_words: None\n"
     ]
    }
   ],
   "source": [
    "result_lreg = crossValidation(X=X_test, algorithm=linear_reg, folds=5, parameters=parameters, y=test_emot)"
   ]
  },
  {
   "cell_type": "code",
   "execution_count": 38,
   "metadata": {},
   "outputs": [],
   "source": [
    "result_lreg = result_lreg[[\"rank_test_score\", \"param_tfidf__use_idf\",\"param_reg__normalize\",\"param_vect__ngram_range\",\n",
    "                           \"param_vect__stop_words\", \"mean_test_score\", \"mean_train_score\"]]\n",
    "\n",
    "result_lreg.columns = [\"Rank\", \"tfidf\", \"Normalize\", \"N-gram range\", \"Stop words\", \"Test Score\", \"Train Score\"]"
   ]
  },
  {
   "cell_type": "code",
   "execution_count": 39,
   "metadata": {},
   "outputs": [],
   "source": [
    "sorted_result_lreg = result_lreg.sort_values(by=\"Rank\")"
   ]
  },
  {
   "cell_type": "code",
   "execution_count": 40,
   "metadata": {},
   "outputs": [
    {
     "data": {
      "text/html": [
       "<div>\n",
       "<style scoped>\n",
       "    .dataframe tbody tr th:only-of-type {\n",
       "        vertical-align: middle;\n",
       "    }\n",
       "\n",
       "    .dataframe tbody tr th {\n",
       "        vertical-align: top;\n",
       "    }\n",
       "\n",
       "    .dataframe thead th {\n",
       "        text-align: right;\n",
       "    }\n",
       "</style>\n",
       "<table border=\"1\" class=\"dataframe\">\n",
       "  <thead>\n",
       "    <tr style=\"text-align: right;\">\n",
       "      <th></th>\n",
       "      <th>Rank</th>\n",
       "      <th>tfidf</th>\n",
       "      <th>Normalize</th>\n",
       "      <th>N-gram range</th>\n",
       "      <th>Stop words</th>\n",
       "      <th>Test Score</th>\n",
       "      <th>Train Score</th>\n",
       "    </tr>\n",
       "  </thead>\n",
       "  <tbody>\n",
       "    <tr>\n",
       "      <th>2</th>\n",
       "      <td>1</td>\n",
       "      <td>True</td>\n",
       "      <td>True</td>\n",
       "      <td>(1, 2)</td>\n",
       "      <td>None</td>\n",
       "      <td>0.188755</td>\n",
       "      <td>0.997348</td>\n",
       "    </tr>\n",
       "    <tr>\n",
       "      <th>4</th>\n",
       "      <td>2</td>\n",
       "      <td>True</td>\n",
       "      <td>True</td>\n",
       "      <td>(1, 3)</td>\n",
       "      <td>None</td>\n",
       "      <td>0.187280</td>\n",
       "      <td>0.997348</td>\n",
       "    </tr>\n",
       "    <tr>\n",
       "      <th>10</th>\n",
       "      <td>3</td>\n",
       "      <td>False</td>\n",
       "      <td>True</td>\n",
       "      <td>(1, 2)</td>\n",
       "      <td>None</td>\n",
       "      <td>0.185108</td>\n",
       "      <td>0.997348</td>\n",
       "    </tr>\n",
       "    <tr>\n",
       "      <th>6</th>\n",
       "      <td>4</td>\n",
       "      <td>True</td>\n",
       "      <td>True</td>\n",
       "      <td>(1, 4)</td>\n",
       "      <td>None</td>\n",
       "      <td>0.183634</td>\n",
       "      <td>0.997348</td>\n",
       "    </tr>\n",
       "    <tr>\n",
       "      <th>5</th>\n",
       "      <td>5</td>\n",
       "      <td>True</td>\n",
       "      <td>True</td>\n",
       "      <td>(1, 3)</td>\n",
       "      <td>english</td>\n",
       "      <td>0.182627</td>\n",
       "      <td>0.997348</td>\n",
       "    </tr>\n",
       "  </tbody>\n",
       "</table>\n",
       "</div>"
      ],
      "text/plain": [
       "    Rank  tfidf Normalize N-gram range Stop words  Test Score  Train Score\n",
       "2      1   True      True       (1, 2)       None    0.188755     0.997348\n",
       "4      2   True      True       (1, 3)       None    0.187280     0.997348\n",
       "10     3  False      True       (1, 2)       None    0.185108     0.997348\n",
       "6      4   True      True       (1, 4)       None    0.183634     0.997348\n",
       "5      5   True      True       (1, 3)    english    0.182627     0.997348"
      ]
     },
     "execution_count": 40,
     "metadata": {},
     "output_type": "execute_result"
    }
   ],
   "source": [
    "sorted_result_lreg[:5]"
   ]
  },
  {
   "cell_type": "markdown",
   "metadata": {},
   "source": [
    "### Logistic Regression"
   ]
  },
  {
   "cell_type": "code",
   "execution_count": 41,
   "metadata": {},
   "outputs": [],
   "source": [
    "from sklearn.linear_model import LogisticRegression\n",
    "log_reg = Pipeline([\n",
    "     ('vect', CountVectorizer()),\n",
    "     ('tfidf', TfidfTransformer()),\n",
    "     ('reg', LogisticRegression(solver='lbfgs', multi_class='multinomial', n_jobs=-1, random_state=0, )),\n",
    " ])"
   ]
  },
  {
   "cell_type": "code",
   "execution_count": 42,
   "metadata": {},
   "outputs": [],
   "source": [
    "parameters = {'vect__stop_words': (None, 'english'), \n",
    "              'vect__ngram_range': [(1, 1), (1, 2), (1, 3), (1, 4)], \n",
    "              'tfidf__use_idf': (True, False),\n",
    "              'reg__C': (1e-1, 1e-2, 1),\n",
    "             }"
   ]
  },
  {
   "cell_type": "code",
   "execution_count": 43,
   "metadata": {},
   "outputs": [
    {
     "name": "stdout",
     "output_type": "stream",
     "text": [
      "Best Score 0.453\n",
      "reg__C: 1\n",
      "tfidf__use_idf: False\n",
      "vect__ngram_range: (1, 1)\n",
      "vect__stop_words: 'english'\n"
     ]
    }
   ],
   "source": [
    "result_log = crossValidation(X=X_train, y=y_train, algorithm=log_reg, folds=5, parameters=parameters)"
   ]
  },
  {
   "cell_type": "code",
   "execution_count": 44,
   "metadata": {},
   "outputs": [],
   "source": [
    "result_log = result_log[[\"rank_test_score\", \"param_tfidf__use_idf\",\"param_reg__C\", \"param_vect__ngram_range\",\n",
    "                         \"param_vect__stop_words\", \"mean_test_score\", \"mean_train_score\"]]\n",
    "\n",
    "result_log.columns = [\"Rank\", \"tfidf\", \"C\", \"N-gram range\", \"Stop words\", \"Test Score\", \"Train Score\"]"
   ]
  },
  {
   "cell_type": "code",
   "execution_count": 45,
   "metadata": {},
   "outputs": [
    {
     "data": {
      "text/html": [
       "<div>\n",
       "<style scoped>\n",
       "    .dataframe tbody tr th:only-of-type {\n",
       "        vertical-align: middle;\n",
       "    }\n",
       "\n",
       "    .dataframe tbody tr th {\n",
       "        vertical-align: top;\n",
       "    }\n",
       "\n",
       "    .dataframe thead th {\n",
       "        text-align: right;\n",
       "    }\n",
       "</style>\n",
       "<table border=\"1\" class=\"dataframe\">\n",
       "  <thead>\n",
       "    <tr style=\"text-align: right;\">\n",
       "      <th></th>\n",
       "      <th>Rank</th>\n",
       "      <th>tfidf</th>\n",
       "      <th>C</th>\n",
       "      <th>N-gram range</th>\n",
       "      <th>Stop words</th>\n",
       "      <th>Test Score</th>\n",
       "      <th>Train Score</th>\n",
       "    </tr>\n",
       "  </thead>\n",
       "  <tbody>\n",
       "    <tr>\n",
       "      <th>41</th>\n",
       "      <td>1</td>\n",
       "      <td>False</td>\n",
       "      <td>1</td>\n",
       "      <td>(1, 1)</td>\n",
       "      <td>english</td>\n",
       "      <td>0.452927</td>\n",
       "      <td>0.847495</td>\n",
       "    </tr>\n",
       "    <tr>\n",
       "      <th>33</th>\n",
       "      <td>2</td>\n",
       "      <td>True</td>\n",
       "      <td>1</td>\n",
       "      <td>(1, 1)</td>\n",
       "      <td>english</td>\n",
       "      <td>0.446846</td>\n",
       "      <td>0.862996</td>\n",
       "    </tr>\n",
       "    <tr>\n",
       "      <th>43</th>\n",
       "      <td>3</td>\n",
       "      <td>False</td>\n",
       "      <td>1</td>\n",
       "      <td>(1, 2)</td>\n",
       "      <td>english</td>\n",
       "      <td>0.442851</td>\n",
       "      <td>0.878248</td>\n",
       "    </tr>\n",
       "    <tr>\n",
       "      <th>32</th>\n",
       "      <td>4</td>\n",
       "      <td>True</td>\n",
       "      <td>1</td>\n",
       "      <td>(1, 1)</td>\n",
       "      <td>None</td>\n",
       "      <td>0.441996</td>\n",
       "      <td>0.841252</td>\n",
       "    </tr>\n",
       "    <tr>\n",
       "      <th>45</th>\n",
       "      <td>5</td>\n",
       "      <td>False</td>\n",
       "      <td>1</td>\n",
       "      <td>(1, 3)</td>\n",
       "      <td>english</td>\n",
       "      <td>0.437891</td>\n",
       "      <td>0.886998</td>\n",
       "    </tr>\n",
       "  </tbody>\n",
       "</table>\n",
       "</div>"
      ],
      "text/plain": [
       "    Rank  tfidf  C N-gram range Stop words  Test Score  Train Score\n",
       "41     1  False  1       (1, 1)    english    0.452927     0.847495\n",
       "33     2   True  1       (1, 1)    english    0.446846     0.862996\n",
       "43     3  False  1       (1, 2)    english    0.442851     0.878248\n",
       "32     4   True  1       (1, 1)       None    0.441996     0.841252\n",
       "45     5  False  1       (1, 3)    english    0.437891     0.886998"
      ]
     },
     "execution_count": 45,
     "metadata": {},
     "output_type": "execute_result"
    }
   ],
   "source": [
    "sorted_result_log = result_log.sort_values(by=\"Rank\")\n",
    "sorted_result_log[:5]"
   ]
  },
  {
   "cell_type": "markdown",
   "metadata": {},
   "source": [
    "### Perceptron"
   ]
  },
  {
   "cell_type": "code",
   "execution_count": 46,
   "metadata": {},
   "outputs": [],
   "source": [
    "from sklearn.linear_model import Perceptron\n",
    "perc = Pipeline([\n",
    "     ('vect', CountVectorizer()),\n",
    "     ('tfidf', TfidfTransformer()),\n",
    "     ('reg', Perceptron(n_jobs=-1, random_state=0)),\n",
    " ])"
   ]
  },
  {
   "cell_type": "code",
   "execution_count": 47,
   "metadata": {},
   "outputs": [],
   "source": [
    "parameters = {'vect__stop_words': (None, 'english'), \n",
    "              'vect__ngram_range': [(1, 1), (1, 2), (1, 3), (1, 4)], \n",
    "              'tfidf__use_idf': (True, False),\n",
    "              'reg__tol': (1e-3, 1e-2, 1e-1),\n",
    "             }"
   ]
  },
  {
   "cell_type": "code",
   "execution_count": 48,
   "metadata": {},
   "outputs": [
    {
     "name": "stdout",
     "output_type": "stream",
     "text": [
      "Best Score 0.458\n",
      "reg__tol: 0.1\n",
      "tfidf__use_idf: True\n",
      "vect__ngram_range: (1, 1)\n",
      "vect__stop_words: None\n"
     ]
    }
   ],
   "source": [
    "result_perc = crossValidation(X=X_train, y=y_train, algorithm=perc, folds=5, parameters=parameters)"
   ]
  },
  {
   "cell_type": "code",
   "execution_count": 49,
   "metadata": {},
   "outputs": [],
   "source": [
    "result_perc = result_perc[[\"rank_test_score\", \"param_tfidf__use_idf\",\"param_reg__tol\", \"param_vect__ngram_range\",\n",
    "                           \"param_vect__stop_words\", \"mean_test_score\", \"mean_train_score\"]]\n",
    "\n",
    "result_perc.columns = [\"Rank\", \"tfidf\", \"Tolerance\", \"N-gram range\", \"Stop words\", \"Test Score\", \"Train Score\"]"
   ]
  },
  {
   "cell_type": "code",
   "execution_count": 50,
   "metadata": {},
   "outputs": [
    {
     "data": {
      "text/html": [
       "<div>\n",
       "<style scoped>\n",
       "    .dataframe tbody tr th:only-of-type {\n",
       "        vertical-align: middle;\n",
       "    }\n",
       "\n",
       "    .dataframe tbody tr th {\n",
       "        vertical-align: top;\n",
       "    }\n",
       "\n",
       "    .dataframe thead th {\n",
       "        text-align: right;\n",
       "    }\n",
       "</style>\n",
       "<table border=\"1\" class=\"dataframe\">\n",
       "  <thead>\n",
       "    <tr style=\"text-align: right;\">\n",
       "      <th></th>\n",
       "      <th>Rank</th>\n",
       "      <th>tfidf</th>\n",
       "      <th>Tolerance</th>\n",
       "      <th>N-gram range</th>\n",
       "      <th>Stop words</th>\n",
       "      <th>Test Score</th>\n",
       "      <th>Train Score</th>\n",
       "    </tr>\n",
       "  </thead>\n",
       "  <tbody>\n",
       "    <tr>\n",
       "      <th>32</th>\n",
       "      <td>1</td>\n",
       "      <td>True</td>\n",
       "      <td>0.1</td>\n",
       "      <td>(1, 1)</td>\n",
       "      <td>None</td>\n",
       "      <td>0.457715</td>\n",
       "      <td>0.997003</td>\n",
       "    </tr>\n",
       "    <tr>\n",
       "      <th>16</th>\n",
       "      <td>2</td>\n",
       "      <td>True</td>\n",
       "      <td>0.01</td>\n",
       "      <td>(1, 1)</td>\n",
       "      <td>None</td>\n",
       "      <td>0.454715</td>\n",
       "      <td>0.997001</td>\n",
       "    </tr>\n",
       "    <tr>\n",
       "      <th>3</th>\n",
       "      <td>3</td>\n",
       "      <td>True</td>\n",
       "      <td>0.001</td>\n",
       "      <td>(1, 2)</td>\n",
       "      <td>english</td>\n",
       "      <td>0.451625</td>\n",
       "      <td>0.997752</td>\n",
       "    </tr>\n",
       "    <tr>\n",
       "      <th>0</th>\n",
       "      <td>4</td>\n",
       "      <td>True</td>\n",
       "      <td>0.001</td>\n",
       "      <td>(1, 1)</td>\n",
       "      <td>None</td>\n",
       "      <td>0.450720</td>\n",
       "      <td>0.997502</td>\n",
       "    </tr>\n",
       "    <tr>\n",
       "      <th>35</th>\n",
       "      <td>5</td>\n",
       "      <td>True</td>\n",
       "      <td>0.1</td>\n",
       "      <td>(1, 2)</td>\n",
       "      <td>english</td>\n",
       "      <td>0.449620</td>\n",
       "      <td>0.997502</td>\n",
       "    </tr>\n",
       "  </tbody>\n",
       "</table>\n",
       "</div>"
      ],
      "text/plain": [
       "    Rank tfidf Tolerance N-gram range Stop words  Test Score  Train Score\n",
       "32     1  True       0.1       (1, 1)       None    0.457715     0.997003\n",
       "16     2  True      0.01       (1, 1)       None    0.454715     0.997001\n",
       "3      3  True     0.001       (1, 2)    english    0.451625     0.997752\n",
       "0      4  True     0.001       (1, 1)       None    0.450720     0.997502\n",
       "35     5  True       0.1       (1, 2)    english    0.449620     0.997502"
      ]
     },
     "execution_count": 50,
     "metadata": {},
     "output_type": "execute_result"
    }
   ],
   "source": [
    "sorted_result_perc = result_perc.sort_values(by=\"Rank\")\n",
    "sorted_result_perc[:5]"
   ]
  },
  {
   "cell_type": "markdown",
   "metadata": {},
   "source": [
    "## Testing"
   ]
  },
  {
   "cell_type": "code",
   "execution_count": 51,
   "metadata": {},
   "outputs": [],
   "source": [
    "testing = Pipeline([\n",
    "     ('vect', CountVectorizer(stop_words='english', ngram_range=(1,4))),\n",
    "     ('tfidf', TfidfTransformer(use_idf=False)),\n",
    "     ('reg', Perceptron(n_jobs=-1, random_state=0, tol=0.1)),\n",
    " ])"
   ]
  },
  {
   "cell_type": "code",
   "execution_count": 52,
   "metadata": {},
   "outputs": [
    {
     "data": {
      "text/plain": [
       "0.432"
      ]
     },
     "execution_count": 52,
     "metadata": {},
     "output_type": "execute_result"
    }
   ],
   "source": [
    "testing.fit(X=X_train, y=y_train)\n",
    "testing.score(X=X_test, y=y_test)"
   ]
  }
 ],
 "metadata": {
  "kernelspec": {
   "display_name": "Python 3",
   "language": "python",
   "name": "python3"
  },
  "language_info": {
   "codemirror_mode": {
    "name": "ipython",
    "version": 3
   },
   "file_extension": ".py",
   "mimetype": "text/x-python",
   "name": "python",
   "nbconvert_exporter": "python",
   "pygments_lexer": "ipython3",
   "version": "3.6.6"
  }
 },
 "nbformat": 4,
 "nbformat_minor": 2
}
